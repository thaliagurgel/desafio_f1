{
  "nbformat": 4,
  "nbformat_minor": 0,
  "metadata": {
    "colab": {
      "name": "DesafioAccenture.ipynb",
      "provenance": [],
      "collapsed_sections": [],
      "include_colab_link": true
    },
    "kernelspec": {
      "name": "python3",
      "display_name": "Python 3"
    },
    "language_info": {
      "name": "python"
    }
  },
  "cells": [
    {
      "cell_type": "markdown",
      "metadata": {
        "id": "view-in-github",
        "colab_type": "text"
      },
      "source": [
        "<a href=\"https://colab.research.google.com/github/thaliagurgel/desafio_f1/blob/main/DesafioAccenture.ipynb\" target=\"_parent\"><img src=\"https://colab.research.google.com/assets/colab-badge.svg\" alt=\"Open In Colab\"/></a>"
      ]
    },
    {
      "cell_type": "code",
      "metadata": {
        "id": "dz24wjzm32Gl"
      },
      "source": [
        ""
      ],
      "execution_count": null,
      "outputs": []
    },
    {
      "cell_type": "code",
      "metadata": {
        "id": "ax7qiLkH3yZS"
      },
      "source": [
        ""
      ],
      "execution_count": null,
      "outputs": []
    },
    {
      "cell_type": "markdown",
      "metadata": {
        "id": "jvXUeE-fydV1"
      },
      "source": [
        "# **Dataset de visualização e exploração de dados da fórmula 1**\n",
        "\n",
        "Este notebook se refere à análise de um dataset obtido através de dados disponíveis no site https://www.kaggle.com/ da base de dados dos campeonatos de Fórmula 1. \n",
        "\n",
        "Após análise da problemática proposta, o time de desenvolvedores implementaram os modelos conceitual, lógico e físico de um banco de dados relacional utilizando o SGBD Oracle e, posteriormente, implementaram o modelo dimensional de um data warehous:\n",
        "\n",
        "\n",
        "\n",
        "O desafio proposta visa responder aos insights abaixo:\n",
        "Perguntas a serem respondidas:\n",
        "1.   Classificação do campeonado de pilotos;\n",
        "2.   Classificação do campeonado de contrutores;\n",
        "3.   Pilotos com mais pódios;\n",
        "4.   Pilotos com mais poles (primeiro lugar no treino classificatório).\n",
        "\n",
        "A seguir, iremos mostrar nosso código de limpeza e exploração dos dados a fim de responder as questões acima."
      ]
    },
    {
      "cell_type": "code",
      "metadata": {
        "colab": {
          "base_uri": "https://localhost:8080/"
        },
        "id": "SEn0H9K5kitj",
        "outputId": "52871cbc-09e8-4550-806e-e6bb4f1c5306"
      },
      "source": [
        "pip install squarify"
      ],
      "execution_count": null,
      "outputs": [
        {
          "output_type": "stream",
          "text": [
            "Requirement already satisfied: squarify in /usr/local/lib/python3.7/dist-packages (0.4.3)\n"
          ],
          "name": "stdout"
        }
      ]
    },
    {
      "cell_type": "code",
      "metadata": {
        "id": "O-03g3Lczrnx"
      },
      "source": [
        "import pandas as pd\n",
        "import matplotlib.pyplot as plt\n",
        "import plotly.express as px\n",
        "import squarify \n",
        "import seaborn as sns\n",
        "import numpy as np\n",
        "plt.style.use('ggplot')\n",
        "\n",
        "from google.colab import drive\n",
        "#drive.mount('/gdrive')\n",
        "\n"
      ],
      "execution_count": null,
      "outputs": []
    },
    {
      "cell_type": "markdown",
      "metadata": {
        "id": "lLdThTRTfCfi"
      },
      "source": [
        "**Carregamento das bases de dados do Data Warehouse**\n"
      ]
    },
    {
      "cell_type": "code",
      "metadata": {
        "id": "LRm93hDle9gF"
      },
      "source": [
        "###################### DIMENSÃO DATA ##################\n",
        "df_dim_data = pd.read_csv('dim_data.csv', sep=',', parse_dates= {\"Data\" : ['ANO','MES','DIA']}, usecols={'ID_DATA', 'ANO', 'MES', 'DIA'})\n",
        "df_dim_data.dropna() #remove as linhas em que haja algum dado nulo\n",
        "df_dim_data = df_dim_data.drop_duplicates() #remove as tuplas duplicadas caso haja\n",
        "#print(df_dim_data.head())\n",
        "#df_dim_data.info()\n",
        "\n",
        "###################### DIMENSÃO PILOTO ##################\n",
        "df_dim_piloto = pd.read_csv('dim_piloto.csv', sep=',', parse_dates=True, encoding='ISO-8859-1')\n",
        "df_dim_data.dropna()\n",
        "df_dim_piloto['NU_PILOTO'] = pd.to_numeric(df_dim_piloto['NU_PILOTO'], errors='coerce').fillna(0) #transforma os campos '\\N' em 0.0 deixando essa coluna numérica.\n",
        "#print(df_dim_piloto.head())\n",
        "#df_dim_piloto.info()\n",
        "\n",
        "###################### DIMENSÃO GRANDE PRÊMIO ##################\n",
        "df_dim_grande_premio = pd.read_csv('dim_grande_premio.csv', sep=',', parse_dates=True)\n",
        "df_dim_grande_premio.dropna()\n",
        "df_dim_grande_premio = df_dim_grande_premio.drop_duplicates()\n",
        "df_dim_grande_premio['DT_GRANDE_PREMIO'] = pd.to_datetime(df_dim_grande_premio['DT_GRANDE_PREMIO'])\n",
        "\n",
        "#print(df_dim_grande_premio.get('DT_GRANDE_PREMIO'))  #retorna os valores de uma coluna específica\n",
        "#df_dim_grande_premio.head()\n",
        "#df_dim_grande_premio.info()\n",
        "\n",
        "###################### DIMENSÃO CONSTRUTOR ##################\n",
        "df_dim_construtor = pd.read_csv('dim_construtor.csv', sep=',', parse_dates=True)\n",
        "df_dim_construtor.dropna()\n",
        "df_dim_construtor = df_dim_construtor.drop_duplicates()\n",
        "#print(df_dim_construtor.head())\n",
        "#df_dim_construtor.info()\n",
        "\n",
        "\n",
        "###################### DIMENSÃO STATUS ##################\n",
        "df_dim_status = pd.read_csv('dim_status.csv', sep=',', parse_dates=True)\n",
        "df_dim_status.dropna()\n",
        "df_dim_status = df_dim_status.drop_duplicates()\n",
        "#print(df_dim_status.head())\n",
        "#df_dim_status.info()\n",
        "\n",
        "###################### FATO RESULTADOS ##################\n",
        "df_ft_resultados = pd.read_csv('ft_resultados1.csv', sep=',', parse_dates=True)\n",
        "df_ft_resultados.dropna()\n",
        "df_ft_resultados = df_ft_resultados.drop_duplicates()\n",
        "df_ft_resultados['POSICAO_GP'] = pd.to_numeric(df_ft_resultados['POSICAO_GP'], errors='coerce').fillna(0) #transforma de object para numeric\n",
        "df_ft_resultados['POSICAO_GP'] = df_ft_resultados['POSICAO_GP'].astype(int) #transforma de numeric para int\n",
        "df_ft_resultados = df_ft_resultados.rename(columns={'SK_PILOTO': 'ID_PILOTO'})\n",
        "df_ft_resultados = df_ft_resultados.rename(columns={'SK_STATUS': 'ID_STATUS'})\n",
        "df_ft_resultados = df_ft_resultados.rename(columns={'SK_CONSTRUTOR': 'ID_CONSTRUTOR'})\n",
        "df_ft_resultados = df_ft_resultados.rename(columns={'SK_GRANDE_PREMIO': 'ID_GRANDE_PREMIO'})\n",
        "df_ft_resultados = df_ft_resultados.rename(columns={'SK_DATA': 'ID_DATA'})\n",
        "#print(df_ft_resultados.head())\n",
        "#df_ft_resultados.info()\n",
        "#df_ft_resultados.describe()\n",
        "\n",
        "\n"
      ],
      "execution_count": null,
      "outputs": []
    },
    {
      "cell_type": "markdown",
      "metadata": {
        "id": "iDMQ9BfX_z3o"
      },
      "source": [
        "**Classificação dos construtores por pontos**"
      ]
    },
    {
      "cell_type": "code",
      "metadata": {
        "colab": {
          "base_uri": "https://localhost:8080/",
          "height": 797
        },
        "id": "2pt61ebR4V3C",
        "outputId": "0254eccf-c1bf-445a-e027-ed36d4a1d4c6"
      },
      "source": [
        "#df_ft_resultados.describe()\n",
        "#df_dim_construtor.merge(df_ft_resultados)\n",
        "df_clas_construt_full = pd.merge(df_ft_resultados, df_dim_construtor, how='inner', on='ID_CONSTRUTOR')\n",
        "df_classif_construt = pd.DataFrame(df_clas_construt_full, columns= [ 'NM_CONSTRUTOR', 'PONTOS_CONSTRUTOR', 'POSICAO_CONSTRUTOR' ])\n",
        "#df_classif_construt[\"PONTOS_CONSTRUTOR\"].describe()\n",
        "pontos_construtor=df_classif_construt[[\"PONTOS_CONSTRUTOR\",\"NM_CONSTRUTOR\"]].groupby('NM_CONSTRUTOR').sum()\n",
        "pontos_construtor.sort_values(by=['PONTOS_CONSTRUTOR'], inplace=True, ascending=False)\n",
        "print(pontos_construtor)\n",
        "df_classif_construt[\"PONTOS_CONSTRUTOR\"] = pd.to_numeric(df_classif_construt[\"PONTOS_CONSTRUTOR\"])\n",
        "df_classif_construt.sort_values(by=['PONTOS_CONSTRUTOR'], inplace=True, ascending=False)\n",
        "dfp = df_classif_construt.groupby([\"NM_CONSTRUTOR\"]).agg({\"PONTOS_CONSTRUTOR\":\"sum\"}).loc[lambda d: d[\"PONTOS_CONSTRUTOR\"].gt(100)]\n",
        "dfp =dfp.sort_values('PONTOS_CONSTRUTOR', ascending=True)\n",
        "px.bar(dfp, x=dfp.index, y=\"PONTOS_CONSTRUTOR\", color=\"PONTOS_CONSTRUTOR\")\n",
        "#print (df_classif_construt)\n",
        "\n",
        "\n"
      ],
      "execution_count": null,
      "outputs": [
        {
          "output_type": "stream",
          "text": [
            "                    PONTOS_CONSTRUTOR\n",
            "NM_CONSTRUTOR                        \n",
            "ferrari                       80080.5\n",
            "mercedes                      59640.0\n",
            "mclaren                       51771.6\n",
            "red_bull                      50037.0\n",
            "williams                      31748.5\n",
            "...                               ...\n",
            "eurobrun                          0.0\n",
            "mclaren-alfa_romeo                0.0\n",
            "fondmetal                         0.0\n",
            "mbm                               0.0\n",
            "de_tomaso-ferrari                 0.0\n",
            "\n",
            "[159 rows x 1 columns]\n"
          ],
          "name": "stdout"
        },
        {
          "output_type": "display_data",
          "data": {
            "text/html": [
              "<html>\n",
              "<head><meta charset=\"utf-8\" /></head>\n",
              "<body>\n",
              "    <div>\n",
              "            <script src=\"https://cdnjs.cloudflare.com/ajax/libs/mathjax/2.7.5/MathJax.js?config=TeX-AMS-MML_SVG\"></script><script type=\"text/javascript\">if (window.MathJax) {MathJax.Hub.Config({SVG: {font: \"STIX-Web\"}});}</script>\n",
              "                <script type=\"text/javascript\">window.PlotlyConfig = {MathJaxConfig: 'local'};</script>\n",
              "        <script src=\"https://cdn.plot.ly/plotly-latest.min.js\"></script>    \n",
              "            <div id=\"1bba420d-21d8-4b75-9f8a-15b2d6e0041c\" class=\"plotly-graph-div\" style=\"height:525px; width:100%;\"></div>\n",
              "            <script type=\"text/javascript\">\n",
              "                \n",
              "                    window.PLOTLYENV=window.PLOTLYENV || {};\n",
              "                    \n",
              "                if (document.getElementById(\"1bba420d-21d8-4b75-9f8a-15b2d6e0041c\")) {\n",
              "                    Plotly.newPlot(\n",
              "                        '1bba420d-21d8-4b75-9f8a-15b2d6e0041c',\n",
              "                        [{\"alignmentgroup\": \"True\", \"hoverlabel\": {\"namelength\": 0}, \"hovertemplate\": \"x=%{x}<br>PONTOS_CONSTRUTOR=%{marker.color}\", \"legendgroup\": \"\", \"marker\": {\"color\": [120.0, 121.0, 127.0, 139.0, 151.0, 153.0, 161.0, 166.0, 184.0, 191.0, 206.0, 214.0, 240.0, 243.0, 247.0, 284.0, 289.0, 339.0, 347.0, 358.0, 360.0, 378.0, 382.0, 394.0, 429.0, 461.0, 687.0, 696.0, 713.0, 791.0, 900.0, 964.0, 1043.0, 1044.62, 1062.0, 1174.0, 1314.0, 1370.0, 1752.0, 1907.0, 2349.0, 2383.0, 2502.0, 2597.0, 2763.0, 2932.0, 3289.0, 4575.0, 5155.12, 5193.0, 5530.0, 7349.5, 7485.0, 7742.0, 10347.0, 17167.1, 31748.5, 50037.0, 51771.6, 59640.0, 80080.5], \"coloraxis\": \"coloraxis\"}, \"name\": \"\", \"offsetgroup\": \"\", \"orientation\": \"v\", \"showlegend\": false, \"textposition\": \"auto\", \"type\": \"bar\", \"x\": [\"cooper-brm\", \"brabham-alfa_romeo\", \"toleman\", \"ensign\", \"lotus-brm\", \"lola\", \"march-ford\", \"larrousse\", \"penske\", \"dallara\", \"porsche\", \"footwork\", \"brabham-ford\", \"cooper\", \"vanwall\", \"brabham-climax\", \"hesketh\", \"surtees\", \"prost\", \"stewart\", \"cooper-maserati\", \"jaguar\", \"minardi\", \"matra\", \"shadow\", \"fittipaldi\", \"wolf\", \"brabham-repco\", \"matra-ford\", \"mclaren-ford\", \"alphatauri\", \"alfa\", \"lotus-ford\", \"march\", \"honda\", \"cooper-climax\", \"arrows\", \"lotus-climax\", \"brawn\", \"bar\", \"racing_point\", \"brm\", \"jordan\", \"haas\", \"toyota\", \"bmw_sauber\", \"ligier\", \"brabham\", \"tyrrell\", \"toro_rosso\", \"sauber\", \"benetton\", \"lotus_f1\", \"team_lotus\", \"force_india\", \"renault\", \"williams\", \"red_bull\", \"mclaren\", \"mercedes\", \"ferrari\"], \"xaxis\": \"x\", \"y\": [120.0, 121.0, 127.0, 139.0, 151.0, 153.0, 161.0, 166.0, 184.0, 191.0, 206.0, 214.0, 240.0, 243.0, 247.0, 284.0, 289.0, 339.0, 347.0, 358.0, 360.0, 378.0, 382.0, 394.0, 429.0, 461.0, 687.0, 696.0, 713.0, 791.0, 900.0, 964.0, 1043.0, 1044.62, 1062.0, 1174.0, 1314.0, 1370.0, 1752.0, 1907.0, 2349.0, 2383.0, 2502.0, 2597.0, 2763.0, 2932.0, 3289.0, 4575.0, 5155.12, 5193.0, 5530.0, 7349.5, 7485.0, 7742.0, 10347.0, 17167.1, 31748.5, 50037.0, 51771.6, 59640.0, 80080.5], \"yaxis\": \"y\"}],\n",
              "                        {\"barmode\": \"relative\", \"coloraxis\": {\"colorbar\": {\"title\": {\"text\": \"PONTOS_CONSTRUTOR\"}}, \"colorscale\": [[0.0, \"#0d0887\"], [0.1111111111111111, \"#46039f\"], [0.2222222222222222, \"#7201a8\"], [0.3333333333333333, \"#9c179e\"], [0.4444444444444444, \"#bd3786\"], [0.5555555555555556, \"#d8576b\"], [0.6666666666666666, \"#ed7953\"], [0.7777777777777778, \"#fb9f3a\"], [0.8888888888888888, \"#fdca26\"], [1.0, \"#f0f921\"]]}, \"legend\": {\"tracegroupgap\": 0}, \"margin\": {\"t\": 60}, \"template\": {\"data\": {\"bar\": [{\"error_x\": {\"color\": \"#2a3f5f\"}, \"error_y\": {\"color\": \"#2a3f5f\"}, \"marker\": {\"line\": {\"color\": \"#E5ECF6\", \"width\": 0.5}}, \"type\": \"bar\"}], \"barpolar\": [{\"marker\": {\"line\": {\"color\": \"#E5ECF6\", \"width\": 0.5}}, \"type\": \"barpolar\"}], \"carpet\": [{\"aaxis\": {\"endlinecolor\": \"#2a3f5f\", \"gridcolor\": \"white\", \"linecolor\": \"white\", \"minorgridcolor\": \"white\", \"startlinecolor\": \"#2a3f5f\"}, \"baxis\": {\"endlinecolor\": \"#2a3f5f\", \"gridcolor\": \"white\", \"linecolor\": \"white\", \"minorgridcolor\": \"white\", \"startlinecolor\": \"#2a3f5f\"}, \"type\": \"carpet\"}], \"choropleth\": [{\"colorbar\": {\"outlinewidth\": 0, \"ticks\": \"\"}, \"type\": \"choropleth\"}], \"contour\": [{\"colorbar\": {\"outlinewidth\": 0, \"ticks\": \"\"}, \"colorscale\": [[0.0, \"#0d0887\"], [0.1111111111111111, \"#46039f\"], [0.2222222222222222, \"#7201a8\"], [0.3333333333333333, \"#9c179e\"], [0.4444444444444444, \"#bd3786\"], [0.5555555555555556, \"#d8576b\"], [0.6666666666666666, \"#ed7953\"], [0.7777777777777778, \"#fb9f3a\"], [0.8888888888888888, \"#fdca26\"], [1.0, \"#f0f921\"]], \"type\": \"contour\"}], \"contourcarpet\": [{\"colorbar\": {\"outlinewidth\": 0, \"ticks\": \"\"}, \"type\": \"contourcarpet\"}], \"heatmap\": [{\"colorbar\": {\"outlinewidth\": 0, \"ticks\": \"\"}, \"colorscale\": [[0.0, \"#0d0887\"], [0.1111111111111111, \"#46039f\"], [0.2222222222222222, \"#7201a8\"], [0.3333333333333333, \"#9c179e\"], [0.4444444444444444, \"#bd3786\"], [0.5555555555555556, \"#d8576b\"], [0.6666666666666666, \"#ed7953\"], [0.7777777777777778, \"#fb9f3a\"], [0.8888888888888888, \"#fdca26\"], [1.0, \"#f0f921\"]], \"type\": \"heatmap\"}], \"heatmapgl\": [{\"colorbar\": {\"outlinewidth\": 0, \"ticks\": \"\"}, \"colorscale\": [[0.0, \"#0d0887\"], [0.1111111111111111, \"#46039f\"], [0.2222222222222222, \"#7201a8\"], [0.3333333333333333, \"#9c179e\"], [0.4444444444444444, \"#bd3786\"], [0.5555555555555556, \"#d8576b\"], [0.6666666666666666, \"#ed7953\"], [0.7777777777777778, \"#fb9f3a\"], [0.8888888888888888, \"#fdca26\"], [1.0, \"#f0f921\"]], \"type\": \"heatmapgl\"}], \"histogram\": [{\"marker\": {\"colorbar\": {\"outlinewidth\": 0, \"ticks\": \"\"}}, \"type\": \"histogram\"}], \"histogram2d\": [{\"colorbar\": {\"outlinewidth\": 0, \"ticks\": \"\"}, \"colorscale\": [[0.0, \"#0d0887\"], [0.1111111111111111, \"#46039f\"], [0.2222222222222222, \"#7201a8\"], [0.3333333333333333, \"#9c179e\"], [0.4444444444444444, \"#bd3786\"], [0.5555555555555556, \"#d8576b\"], [0.6666666666666666, \"#ed7953\"], [0.7777777777777778, \"#fb9f3a\"], [0.8888888888888888, \"#fdca26\"], [1.0, \"#f0f921\"]], \"type\": \"histogram2d\"}], \"histogram2dcontour\": [{\"colorbar\": {\"outlinewidth\": 0, \"ticks\": \"\"}, \"colorscale\": [[0.0, \"#0d0887\"], [0.1111111111111111, \"#46039f\"], [0.2222222222222222, \"#7201a8\"], [0.3333333333333333, \"#9c179e\"], [0.4444444444444444, \"#bd3786\"], [0.5555555555555556, \"#d8576b\"], [0.6666666666666666, \"#ed7953\"], [0.7777777777777778, \"#fb9f3a\"], [0.8888888888888888, \"#fdca26\"], [1.0, \"#f0f921\"]], \"type\": \"histogram2dcontour\"}], \"mesh3d\": [{\"colorbar\": {\"outlinewidth\": 0, \"ticks\": \"\"}, \"type\": \"mesh3d\"}], \"parcoords\": [{\"line\": {\"colorbar\": {\"outlinewidth\": 0, \"ticks\": \"\"}}, \"type\": \"parcoords\"}], \"pie\": [{\"automargin\": true, \"type\": \"pie\"}], \"scatter\": [{\"marker\": {\"colorbar\": {\"outlinewidth\": 0, \"ticks\": \"\"}}, \"type\": \"scatter\"}], \"scatter3d\": [{\"line\": {\"colorbar\": {\"outlinewidth\": 0, \"ticks\": \"\"}}, \"marker\": {\"colorbar\": {\"outlinewidth\": 0, \"ticks\": \"\"}}, \"type\": \"scatter3d\"}], \"scattercarpet\": [{\"marker\": {\"colorbar\": {\"outlinewidth\": 0, \"ticks\": \"\"}}, \"type\": \"scattercarpet\"}], \"scattergeo\": [{\"marker\": {\"colorbar\": {\"outlinewidth\": 0, \"ticks\": \"\"}}, \"type\": \"scattergeo\"}], \"scattergl\": [{\"marker\": {\"colorbar\": {\"outlinewidth\": 0, \"ticks\": \"\"}}, \"type\": \"scattergl\"}], \"scattermapbox\": [{\"marker\": {\"colorbar\": {\"outlinewidth\": 0, \"ticks\": \"\"}}, \"type\": \"scattermapbox\"}], \"scatterpolar\": [{\"marker\": {\"colorbar\": {\"outlinewidth\": 0, \"ticks\": \"\"}}, \"type\": \"scatterpolar\"}], \"scatterpolargl\": [{\"marker\": {\"colorbar\": {\"outlinewidth\": 0, \"ticks\": \"\"}}, \"type\": \"scatterpolargl\"}], \"scatterternary\": [{\"marker\": {\"colorbar\": {\"outlinewidth\": 0, \"ticks\": \"\"}}, \"type\": \"scatterternary\"}], \"surface\": [{\"colorbar\": {\"outlinewidth\": 0, \"ticks\": \"\"}, \"colorscale\": [[0.0, \"#0d0887\"], [0.1111111111111111, \"#46039f\"], [0.2222222222222222, \"#7201a8\"], [0.3333333333333333, \"#9c179e\"], [0.4444444444444444, \"#bd3786\"], [0.5555555555555556, \"#d8576b\"], [0.6666666666666666, \"#ed7953\"], [0.7777777777777778, \"#fb9f3a\"], [0.8888888888888888, \"#fdca26\"], [1.0, \"#f0f921\"]], \"type\": \"surface\"}], \"table\": [{\"cells\": {\"fill\": {\"color\": \"#EBF0F8\"}, \"line\": {\"color\": \"white\"}}, \"header\": {\"fill\": {\"color\": \"#C8D4E3\"}, \"line\": {\"color\": \"white\"}}, \"type\": \"table\"}]}, \"layout\": {\"annotationdefaults\": {\"arrowcolor\": \"#2a3f5f\", \"arrowhead\": 0, \"arrowwidth\": 1}, \"coloraxis\": {\"colorbar\": {\"outlinewidth\": 0, \"ticks\": \"\"}}, \"colorscale\": {\"diverging\": [[0, \"#8e0152\"], [0.1, \"#c51b7d\"], [0.2, \"#de77ae\"], [0.3, \"#f1b6da\"], [0.4, \"#fde0ef\"], [0.5, \"#f7f7f7\"], [0.6, \"#e6f5d0\"], [0.7, \"#b8e186\"], [0.8, \"#7fbc41\"], [0.9, \"#4d9221\"], [1, \"#276419\"]], \"sequential\": [[0.0, \"#0d0887\"], [0.1111111111111111, \"#46039f\"], [0.2222222222222222, \"#7201a8\"], [0.3333333333333333, \"#9c179e\"], [0.4444444444444444, \"#bd3786\"], [0.5555555555555556, \"#d8576b\"], [0.6666666666666666, \"#ed7953\"], [0.7777777777777778, \"#fb9f3a\"], [0.8888888888888888, \"#fdca26\"], [1.0, \"#f0f921\"]], \"sequentialminus\": [[0.0, \"#0d0887\"], [0.1111111111111111, \"#46039f\"], [0.2222222222222222, \"#7201a8\"], [0.3333333333333333, \"#9c179e\"], [0.4444444444444444, \"#bd3786\"], [0.5555555555555556, \"#d8576b\"], [0.6666666666666666, \"#ed7953\"], [0.7777777777777778, \"#fb9f3a\"], [0.8888888888888888, \"#fdca26\"], [1.0, \"#f0f921\"]]}, \"colorway\": [\"#636efa\", \"#EF553B\", \"#00cc96\", \"#ab63fa\", \"#FFA15A\", \"#19d3f3\", \"#FF6692\", \"#B6E880\", \"#FF97FF\", \"#FECB52\"], \"font\": {\"color\": \"#2a3f5f\"}, \"geo\": {\"bgcolor\": \"white\", \"lakecolor\": \"white\", \"landcolor\": \"#E5ECF6\", \"showlakes\": true, \"showland\": true, \"subunitcolor\": \"white\"}, \"hoverlabel\": {\"align\": \"left\"}, \"hovermode\": \"closest\", \"mapbox\": {\"style\": \"light\"}, \"paper_bgcolor\": \"white\", \"plot_bgcolor\": \"#E5ECF6\", \"polar\": {\"angularaxis\": {\"gridcolor\": \"white\", \"linecolor\": \"white\", \"ticks\": \"\"}, \"bgcolor\": \"#E5ECF6\", \"radialaxis\": {\"gridcolor\": \"white\", \"linecolor\": \"white\", \"ticks\": \"\"}}, \"scene\": {\"xaxis\": {\"backgroundcolor\": \"#E5ECF6\", \"gridcolor\": \"white\", \"gridwidth\": 2, \"linecolor\": \"white\", \"showbackground\": true, \"ticks\": \"\", \"zerolinecolor\": \"white\"}, \"yaxis\": {\"backgroundcolor\": \"#E5ECF6\", \"gridcolor\": \"white\", \"gridwidth\": 2, \"linecolor\": \"white\", \"showbackground\": true, \"ticks\": \"\", \"zerolinecolor\": \"white\"}, \"zaxis\": {\"backgroundcolor\": \"#E5ECF6\", \"gridcolor\": \"white\", \"gridwidth\": 2, \"linecolor\": \"white\", \"showbackground\": true, \"ticks\": \"\", \"zerolinecolor\": \"white\"}}, \"shapedefaults\": {\"line\": {\"color\": \"#2a3f5f\"}}, \"ternary\": {\"aaxis\": {\"gridcolor\": \"white\", \"linecolor\": \"white\", \"ticks\": \"\"}, \"baxis\": {\"gridcolor\": \"white\", \"linecolor\": \"white\", \"ticks\": \"\"}, \"bgcolor\": \"#E5ECF6\", \"caxis\": {\"gridcolor\": \"white\", \"linecolor\": \"white\", \"ticks\": \"\"}}, \"title\": {\"x\": 0.05}, \"xaxis\": {\"automargin\": true, \"gridcolor\": \"white\", \"linecolor\": \"white\", \"ticks\": \"\", \"title\": {\"standoff\": 15}, \"zerolinecolor\": \"white\", \"zerolinewidth\": 2}, \"yaxis\": {\"automargin\": true, \"gridcolor\": \"white\", \"linecolor\": \"white\", \"ticks\": \"\", \"title\": {\"standoff\": 15}, \"zerolinecolor\": \"white\", \"zerolinewidth\": 2}}}, \"xaxis\": {\"anchor\": \"y\", \"domain\": [0.0, 1.0], \"title\": {\"text\": \"x\"}}, \"yaxis\": {\"anchor\": \"x\", \"domain\": [0.0, 1.0], \"title\": {\"text\": \"PONTOS_CONSTRUTOR\"}}},\n",
              "                        {\"responsive\": true}\n",
              "                    ).then(function(){\n",
              "                            \n",
              "var gd = document.getElementById('1bba420d-21d8-4b75-9f8a-15b2d6e0041c');\n",
              "var x = new MutationObserver(function (mutations, observer) {{\n",
              "        var display = window.getComputedStyle(gd).display;\n",
              "        if (!display || display === 'none') {{\n",
              "            console.log([gd, 'removed!']);\n",
              "            Plotly.purge(gd);\n",
              "            observer.disconnect();\n",
              "        }}\n",
              "}});\n",
              "\n",
              "// Listen for the removal of the full notebook cells\n",
              "var notebookContainer = gd.closest('#notebook-container');\n",
              "if (notebookContainer) {{\n",
              "    x.observe(notebookContainer, {childList: true});\n",
              "}}\n",
              "\n",
              "// Listen for the clearing of the current output cell\n",
              "var outputEl = gd.closest('.output');\n",
              "if (outputEl) {{\n",
              "    x.observe(outputEl, {childList: true});\n",
              "}}\n",
              "\n",
              "                        })\n",
              "                };\n",
              "                \n",
              "            </script>\n",
              "        </div>\n",
              "</body>\n",
              "</html>"
            ]
          },
          "metadata": {
            "tags": []
          }
        }
      ]
    },
    {
      "cell_type": "markdown",
      "metadata": {
        "id": "NW8K7ukEASeX"
      },
      "source": [
        " **Construtores com maior número de vitórias no GP**"
      ]
    },
    {
      "cell_type": "code",
      "metadata": {
        "colab": {
          "base_uri": "https://localhost:8080/",
          "height": 517
        },
        "id": "oKWiiajeAgVc",
        "outputId": "1be59aab-473e-480c-849e-947a9ebcf846"
      },
      "source": [
        "gry=df_classif_construt\n",
        "gry['POSICAO_CONSTRUTOR'] = pd.to_numeric(gry['POSICAO_CONSTRUTOR'], errors='coerce')\n",
        "gry = gry[gry.POSICAO_CONSTRUTOR == 1]\n",
        "\n",
        "team_win_c= gry.groupby('NM_CONSTRUTOR')['NM_CONSTRUTOR'].count()\n",
        "team_win_c = pd.DataFrame(team_win_c)\n",
        "team_win_c.columns = ['PONTOS_CONSTRUTOR']\n",
        "team_win_c.reset_index(level=0, inplace=True)\n",
        "\n",
        "team_win_c.sort_values(by=['PONTOS_CONSTRUTOR'], inplace=True, ascending=False)\n",
        "team_win_c = team_win_c.head(10)\n",
        "team_win_c = team_win_c[::-1]\n",
        "\n",
        "fig = px.bar(team_win_c, x='NM_CONSTRUTOR', y='PONTOS_CONSTRUTOR',color='PONTOS_CONSTRUTOR',width=750, height=500)\n",
        "fig.update_layout(title={'text': 'Classificação dos construtores por vitórias no GP','y':0.95,'x':0.5})\n",
        "fig.show()"
      ],
      "execution_count": null,
      "outputs": [
        {
          "output_type": "display_data",
          "data": {
            "text/html": [
              "<html>\n",
              "<head><meta charset=\"utf-8\" /></head>\n",
              "<body>\n",
              "    <div>\n",
              "            <script src=\"https://cdnjs.cloudflare.com/ajax/libs/mathjax/2.7.5/MathJax.js?config=TeX-AMS-MML_SVG\"></script><script type=\"text/javascript\">if (window.MathJax) {MathJax.Hub.Config({SVG: {font: \"STIX-Web\"}});}</script>\n",
              "                <script type=\"text/javascript\">window.PlotlyConfig = {MathJaxConfig: 'local'};</script>\n",
              "        <script src=\"https://cdn.plot.ly/plotly-latest.min.js\"></script>    \n",
              "            <div id=\"6f61e4b9-ce30-4a94-87b5-49147efa6722\" class=\"plotly-graph-div\" style=\"height:500px; width:750px;\"></div>\n",
              "            <script type=\"text/javascript\">\n",
              "                \n",
              "                    window.PLOTLYENV=window.PLOTLYENV || {};\n",
              "                    \n",
              "                if (document.getElementById(\"6f61e4b9-ce30-4a94-87b5-49147efa6722\")) {\n",
              "                    Plotly.newPlot(\n",
              "                        '6f61e4b9-ce30-4a94-87b5-49147efa6722',\n",
              "                        [{\"alignmentgroup\": \"True\", \"hoverlabel\": {\"namelength\": 0}, \"hovertemplate\": \"NM_CONSTRUTOR=%{x}<br>PONTOS_CONSTRUTOR=%{marker.color}\", \"legendgroup\": \"\", \"marker\": {\"color\": [20, 23, 29, 44, 46, 63, 114, 133, 165, 229], \"coloraxis\": \"coloraxis\"}, \"name\": \"\", \"offsetgroup\": \"\", \"orientation\": \"v\", \"showlegend\": false, \"textposition\": \"auto\", \"type\": \"bar\", \"x\": [\"cooper-climax\", \"lotus-climax\", \"benetton\", \"team_lotus\", \"renault\", \"red_bull\", \"williams\", \"mercedes\", \"mclaren\", \"ferrari\"], \"xaxis\": \"x\", \"y\": [20, 23, 29, 44, 46, 63, 114, 133, 165, 229], \"yaxis\": \"y\"}],\n",
              "                        {\"barmode\": \"relative\", \"coloraxis\": {\"colorbar\": {\"title\": {\"text\": \"PONTOS_CONSTRUTOR\"}}, \"colorscale\": [[0.0, \"#0d0887\"], [0.1111111111111111, \"#46039f\"], [0.2222222222222222, \"#7201a8\"], [0.3333333333333333, \"#9c179e\"], [0.4444444444444444, \"#bd3786\"], [0.5555555555555556, \"#d8576b\"], [0.6666666666666666, \"#ed7953\"], [0.7777777777777778, \"#fb9f3a\"], [0.8888888888888888, \"#fdca26\"], [1.0, \"#f0f921\"]]}, \"height\": 500, \"legend\": {\"tracegroupgap\": 0}, \"margin\": {\"t\": 60}, \"template\": {\"data\": {\"bar\": [{\"error_x\": {\"color\": \"#2a3f5f\"}, \"error_y\": {\"color\": \"#2a3f5f\"}, \"marker\": {\"line\": {\"color\": \"#E5ECF6\", \"width\": 0.5}}, \"type\": \"bar\"}], \"barpolar\": [{\"marker\": {\"line\": {\"color\": \"#E5ECF6\", \"width\": 0.5}}, \"type\": \"barpolar\"}], \"carpet\": [{\"aaxis\": {\"endlinecolor\": \"#2a3f5f\", \"gridcolor\": \"white\", \"linecolor\": \"white\", \"minorgridcolor\": \"white\", \"startlinecolor\": \"#2a3f5f\"}, \"baxis\": {\"endlinecolor\": \"#2a3f5f\", \"gridcolor\": \"white\", \"linecolor\": \"white\", \"minorgridcolor\": \"white\", \"startlinecolor\": \"#2a3f5f\"}, \"type\": \"carpet\"}], \"choropleth\": [{\"colorbar\": {\"outlinewidth\": 0, \"ticks\": \"\"}, \"type\": \"choropleth\"}], \"contour\": [{\"colorbar\": {\"outlinewidth\": 0, \"ticks\": \"\"}, \"colorscale\": [[0.0, \"#0d0887\"], [0.1111111111111111, \"#46039f\"], [0.2222222222222222, \"#7201a8\"], [0.3333333333333333, \"#9c179e\"], [0.4444444444444444, \"#bd3786\"], [0.5555555555555556, \"#d8576b\"], [0.6666666666666666, \"#ed7953\"], [0.7777777777777778, \"#fb9f3a\"], [0.8888888888888888, \"#fdca26\"], [1.0, \"#f0f921\"]], \"type\": \"contour\"}], \"contourcarpet\": [{\"colorbar\": {\"outlinewidth\": 0, \"ticks\": \"\"}, \"type\": \"contourcarpet\"}], \"heatmap\": [{\"colorbar\": {\"outlinewidth\": 0, \"ticks\": \"\"}, \"colorscale\": [[0.0, \"#0d0887\"], [0.1111111111111111, \"#46039f\"], [0.2222222222222222, \"#7201a8\"], [0.3333333333333333, \"#9c179e\"], [0.4444444444444444, \"#bd3786\"], [0.5555555555555556, \"#d8576b\"], [0.6666666666666666, \"#ed7953\"], [0.7777777777777778, \"#fb9f3a\"], [0.8888888888888888, \"#fdca26\"], [1.0, \"#f0f921\"]], \"type\": \"heatmap\"}], \"heatmapgl\": [{\"colorbar\": {\"outlinewidth\": 0, \"ticks\": \"\"}, \"colorscale\": [[0.0, \"#0d0887\"], [0.1111111111111111, \"#46039f\"], [0.2222222222222222, \"#7201a8\"], [0.3333333333333333, \"#9c179e\"], [0.4444444444444444, \"#bd3786\"], [0.5555555555555556, \"#d8576b\"], [0.6666666666666666, \"#ed7953\"], [0.7777777777777778, \"#fb9f3a\"], [0.8888888888888888, \"#fdca26\"], [1.0, \"#f0f921\"]], \"type\": \"heatmapgl\"}], \"histogram\": [{\"marker\": {\"colorbar\": {\"outlinewidth\": 0, \"ticks\": \"\"}}, \"type\": \"histogram\"}], \"histogram2d\": [{\"colorbar\": {\"outlinewidth\": 0, \"ticks\": \"\"}, \"colorscale\": [[0.0, \"#0d0887\"], [0.1111111111111111, \"#46039f\"], [0.2222222222222222, \"#7201a8\"], [0.3333333333333333, \"#9c179e\"], [0.4444444444444444, \"#bd3786\"], [0.5555555555555556, \"#d8576b\"], [0.6666666666666666, \"#ed7953\"], [0.7777777777777778, \"#fb9f3a\"], [0.8888888888888888, \"#fdca26\"], [1.0, \"#f0f921\"]], \"type\": \"histogram2d\"}], \"histogram2dcontour\": [{\"colorbar\": {\"outlinewidth\": 0, \"ticks\": \"\"}, \"colorscale\": [[0.0, \"#0d0887\"], [0.1111111111111111, \"#46039f\"], [0.2222222222222222, \"#7201a8\"], [0.3333333333333333, \"#9c179e\"], [0.4444444444444444, \"#bd3786\"], [0.5555555555555556, \"#d8576b\"], [0.6666666666666666, \"#ed7953\"], [0.7777777777777778, \"#fb9f3a\"], [0.8888888888888888, \"#fdca26\"], [1.0, \"#f0f921\"]], \"type\": \"histogram2dcontour\"}], \"mesh3d\": [{\"colorbar\": {\"outlinewidth\": 0, \"ticks\": \"\"}, \"type\": \"mesh3d\"}], \"parcoords\": [{\"line\": {\"colorbar\": {\"outlinewidth\": 0, \"ticks\": \"\"}}, \"type\": \"parcoords\"}], \"pie\": [{\"automargin\": true, \"type\": \"pie\"}], \"scatter\": [{\"marker\": {\"colorbar\": {\"outlinewidth\": 0, \"ticks\": \"\"}}, \"type\": \"scatter\"}], \"scatter3d\": [{\"line\": {\"colorbar\": {\"outlinewidth\": 0, \"ticks\": \"\"}}, \"marker\": {\"colorbar\": {\"outlinewidth\": 0, \"ticks\": \"\"}}, \"type\": \"scatter3d\"}], \"scattercarpet\": [{\"marker\": {\"colorbar\": {\"outlinewidth\": 0, \"ticks\": \"\"}}, \"type\": \"scattercarpet\"}], \"scattergeo\": [{\"marker\": {\"colorbar\": {\"outlinewidth\": 0, \"ticks\": \"\"}}, \"type\": \"scattergeo\"}], \"scattergl\": [{\"marker\": {\"colorbar\": {\"outlinewidth\": 0, \"ticks\": \"\"}}, \"type\": \"scattergl\"}], \"scattermapbox\": [{\"marker\": {\"colorbar\": {\"outlinewidth\": 0, \"ticks\": \"\"}}, \"type\": \"scattermapbox\"}], \"scatterpolar\": [{\"marker\": {\"colorbar\": {\"outlinewidth\": 0, \"ticks\": \"\"}}, \"type\": \"scatterpolar\"}], \"scatterpolargl\": [{\"marker\": {\"colorbar\": {\"outlinewidth\": 0, \"ticks\": \"\"}}, \"type\": \"scatterpolargl\"}], \"scatterternary\": [{\"marker\": {\"colorbar\": {\"outlinewidth\": 0, \"ticks\": \"\"}}, \"type\": \"scatterternary\"}], \"surface\": [{\"colorbar\": {\"outlinewidth\": 0, \"ticks\": \"\"}, \"colorscale\": [[0.0, \"#0d0887\"], [0.1111111111111111, \"#46039f\"], [0.2222222222222222, \"#7201a8\"], [0.3333333333333333, \"#9c179e\"], [0.4444444444444444, \"#bd3786\"], [0.5555555555555556, \"#d8576b\"], [0.6666666666666666, \"#ed7953\"], [0.7777777777777778, \"#fb9f3a\"], [0.8888888888888888, \"#fdca26\"], [1.0, \"#f0f921\"]], \"type\": \"surface\"}], \"table\": [{\"cells\": {\"fill\": {\"color\": \"#EBF0F8\"}, \"line\": {\"color\": \"white\"}}, \"header\": {\"fill\": {\"color\": \"#C8D4E3\"}, \"line\": {\"color\": \"white\"}}, \"type\": \"table\"}]}, \"layout\": {\"annotationdefaults\": {\"arrowcolor\": \"#2a3f5f\", \"arrowhead\": 0, \"arrowwidth\": 1}, \"coloraxis\": {\"colorbar\": {\"outlinewidth\": 0, \"ticks\": \"\"}}, \"colorscale\": {\"diverging\": [[0, \"#8e0152\"], [0.1, \"#c51b7d\"], [0.2, \"#de77ae\"], [0.3, \"#f1b6da\"], [0.4, \"#fde0ef\"], [0.5, \"#f7f7f7\"], [0.6, \"#e6f5d0\"], [0.7, \"#b8e186\"], [0.8, \"#7fbc41\"], [0.9, \"#4d9221\"], [1, \"#276419\"]], \"sequential\": [[0.0, \"#0d0887\"], [0.1111111111111111, \"#46039f\"], [0.2222222222222222, \"#7201a8\"], [0.3333333333333333, \"#9c179e\"], [0.4444444444444444, \"#bd3786\"], [0.5555555555555556, \"#d8576b\"], [0.6666666666666666, \"#ed7953\"], [0.7777777777777778, \"#fb9f3a\"], [0.8888888888888888, \"#fdca26\"], [1.0, \"#f0f921\"]], \"sequentialminus\": [[0.0, \"#0d0887\"], [0.1111111111111111, \"#46039f\"], [0.2222222222222222, \"#7201a8\"], [0.3333333333333333, \"#9c179e\"], [0.4444444444444444, \"#bd3786\"], [0.5555555555555556, \"#d8576b\"], [0.6666666666666666, \"#ed7953\"], [0.7777777777777778, \"#fb9f3a\"], [0.8888888888888888, \"#fdca26\"], [1.0, \"#f0f921\"]]}, \"colorway\": [\"#636efa\", \"#EF553B\", \"#00cc96\", \"#ab63fa\", \"#FFA15A\", \"#19d3f3\", \"#FF6692\", \"#B6E880\", \"#FF97FF\", \"#FECB52\"], \"font\": {\"color\": \"#2a3f5f\"}, \"geo\": {\"bgcolor\": \"white\", \"lakecolor\": \"white\", \"landcolor\": \"#E5ECF6\", \"showlakes\": true, \"showland\": true, \"subunitcolor\": \"white\"}, \"hoverlabel\": {\"align\": \"left\"}, \"hovermode\": \"closest\", \"mapbox\": {\"style\": \"light\"}, \"paper_bgcolor\": \"white\", \"plot_bgcolor\": \"#E5ECF6\", \"polar\": {\"angularaxis\": {\"gridcolor\": \"white\", \"linecolor\": \"white\", \"ticks\": \"\"}, \"bgcolor\": \"#E5ECF6\", \"radialaxis\": {\"gridcolor\": \"white\", \"linecolor\": \"white\", \"ticks\": \"\"}}, \"scene\": {\"xaxis\": {\"backgroundcolor\": \"#E5ECF6\", \"gridcolor\": \"white\", \"gridwidth\": 2, \"linecolor\": \"white\", \"showbackground\": true, \"ticks\": \"\", \"zerolinecolor\": \"white\"}, \"yaxis\": {\"backgroundcolor\": \"#E5ECF6\", \"gridcolor\": \"white\", \"gridwidth\": 2, \"linecolor\": \"white\", \"showbackground\": true, \"ticks\": \"\", \"zerolinecolor\": \"white\"}, \"zaxis\": {\"backgroundcolor\": \"#E5ECF6\", \"gridcolor\": \"white\", \"gridwidth\": 2, \"linecolor\": \"white\", \"showbackground\": true, \"ticks\": \"\", \"zerolinecolor\": \"white\"}}, \"shapedefaults\": {\"line\": {\"color\": \"#2a3f5f\"}}, \"ternary\": {\"aaxis\": {\"gridcolor\": \"white\", \"linecolor\": \"white\", \"ticks\": \"\"}, \"baxis\": {\"gridcolor\": \"white\", \"linecolor\": \"white\", \"ticks\": \"\"}, \"bgcolor\": \"#E5ECF6\", \"caxis\": {\"gridcolor\": \"white\", \"linecolor\": \"white\", \"ticks\": \"\"}}, \"title\": {\"x\": 0.05}, \"xaxis\": {\"automargin\": true, \"gridcolor\": \"white\", \"linecolor\": \"white\", \"ticks\": \"\", \"title\": {\"standoff\": 15}, \"zerolinecolor\": \"white\", \"zerolinewidth\": 2}, \"yaxis\": {\"automargin\": true, \"gridcolor\": \"white\", \"linecolor\": \"white\", \"ticks\": \"\", \"title\": {\"standoff\": 15}, \"zerolinecolor\": \"white\", \"zerolinewidth\": 2}}}, \"title\": {\"text\": \"Classifica\\u00e7\\u00e3o dos construtores por vit\\u00f3rias no GP\", \"x\": 0.5, \"y\": 0.95}, \"width\": 750, \"xaxis\": {\"anchor\": \"y\", \"domain\": [0.0, 1.0], \"title\": {\"text\": \"NM_CONSTRUTOR\"}}, \"yaxis\": {\"anchor\": \"x\", \"domain\": [0.0, 1.0], \"title\": {\"text\": \"PONTOS_CONSTRUTOR\"}}},\n",
              "                        {\"responsive\": true}\n",
              "                    ).then(function(){\n",
              "                            \n",
              "var gd = document.getElementById('6f61e4b9-ce30-4a94-87b5-49147efa6722');\n",
              "var x = new MutationObserver(function (mutations, observer) {{\n",
              "        var display = window.getComputedStyle(gd).display;\n",
              "        if (!display || display === 'none') {{\n",
              "            console.log([gd, 'removed!']);\n",
              "            Plotly.purge(gd);\n",
              "            observer.disconnect();\n",
              "        }}\n",
              "}});\n",
              "\n",
              "// Listen for the removal of the full notebook cells\n",
              "var notebookContainer = gd.closest('#notebook-container');\n",
              "if (notebookContainer) {{\n",
              "    x.observe(notebookContainer, {childList: true});\n",
              "}}\n",
              "\n",
              "// Listen for the clearing of the current output cell\n",
              "var outputEl = gd.closest('.output');\n",
              "if (outputEl) {{\n",
              "    x.observe(outputEl, {childList: true});\n",
              "}}\n",
              "\n",
              "                        })\n",
              "                };\n",
              "                \n",
              "            </script>\n",
              "        </div>\n",
              "</body>\n",
              "</html>"
            ]
          },
          "metadata": {
            "tags": []
          }
        }
      ]
    },
    {
      "cell_type": "markdown",
      "metadata": {
        "id": "yn1nk91sXY6x"
      },
      "source": [
        "**Pilotos com mais Poles(1° Lugar no treino classifictório)**"
      ]
    },
    {
      "cell_type": "code",
      "metadata": {
        "id": "CMSGZ9YNMLyP"
      },
      "source": [
        "df_poles = df_classif_pilotos_poles[df_classif_pilotos_poles.POSICAO_TREINO == 1]"
      ],
      "execution_count": null,
      "outputs": []
    },
    {
      "cell_type": "code",
      "metadata": {
        "colab": {
          "base_uri": "https://localhost:8080/"
        },
        "id": "wDTe6GcQOUzt",
        "outputId": "67892246-702f-470c-9302-002b04addd96"
      },
      "source": [
        "df_poles = df_poles[['NM_PILOTO', 'POSICAO_TREINO']]\n",
        "qt_poles = df_poles.NM_PILOTO.value_counts(ascending = False)\n",
        "top_10_poles = qt_poles[:10]\n",
        "top_10_poles"
      ],
      "execution_count": null,
      "outputs": [
        {
          "output_type": "execute_result",
          "data": {
            "text/plain": [
              "Rubens       188\n",
              "David        180\n",
              "Mark         154\n",
              "Giancarlo    154\n",
              "Jarno        148\n",
              "Michael      135\n",
              "Jenson       127\n",
              "Kimi         125\n",
              "Nick         124\n",
              "Fernando     123\n",
              "Name: NM_PILOTO, dtype: int64"
            ]
          },
          "metadata": {
            "tags": []
          },
          "execution_count": 35
        }
      ]
    },
    {
      "cell_type": "code",
      "metadata": {
        "colab": {
          "base_uri": "https://localhost:8080/",
          "height": 320
        },
        "id": "0DYhGDOmR6-n",
        "outputId": "ccab6850-4002-42ec-a9d3-9c9f9abbaa24"
      },
      "source": [
        "top_10_poles.plot(kind = 'bar')"
      ],
      "execution_count": null,
      "outputs": [
        {
          "output_type": "execute_result",
          "data": {
            "text/plain": [
              "<matplotlib.axes._subplots.AxesSubplot at 0x7f31d52c7a90>"
            ]
          },
          "metadata": {
            "tags": []
          },
          "execution_count": 36
        },
        {
          "output_type": "display_data",
          "data": {
            "image/png": "[encoded data removed]",
            "text/plain": [
              "<Figure size 432x288 with 1 Axes>"
            ]
          },
          "metadata": {
            "tags": []
          }
        }
      ]
    },
    {
      "cell_type": "markdown",
      "metadata": {
        "id": "hrAQuW3oXwSJ"
      },
      "source": [
        "**Pilotos com mais pódios**"
      ]
    },
    {
      "cell_type": "code",
      "metadata": {
        "id": "sMjiUHRTSKxd"
      },
      "source": [
        "df_podios = df_classif_pilotos[df_classif_pilotos.POSICAO_GP.isin({1, 2, 3})]"
      ],
      "execution_count": null,
      "outputs": []
    },
    {
      "cell_type": "code",
      "metadata": {
        "colab": {
          "base_uri": "https://localhost:8080/"
        },
        "id": "J2MF12NLSdNd",
        "outputId": "a176aa67-6aa4-4c45-c50d-fa75fb7e14c9"
      },
      "source": [
        "qt_podios = df_podios.NM_PILOTO.value_counts(ascending = False)\n",
        "top_10_podios = qt_podios[:10]\n",
        "top_10_podios"
      ],
      "execution_count": null,
      "outputs": [
        {
          "output_type": "execute_result",
          "data": {
            "text/plain": [
              "Michael     1829\n",
              "Kimi        1218\n",
              "Fernando    1110\n",
              "Rubens       796\n",
              "Damon        614\n",
              "Felipe       598\n",
              "David        583\n",
              "Lewis        568\n",
              "Mika         490\n",
              "Jenson       466\n",
              "Name: NM_PILOTO, dtype: int64"
            ]
          },
          "metadata": {
            "tags": []
          },
          "execution_count": 38
        }
      ]
    },
    {
      "cell_type": "code",
      "metadata": {
        "colab": {
          "base_uri": "https://localhost:8080/",
          "height": 319
        },
        "id": "R1GaKYqgSiHt",
        "outputId": "eba98e6d-5463-45e2-e455-31170827248d"
      },
      "source": [
        "top_10_podios.plot(kind = 'bar')"
      ],
      "execution_count": null,
      "outputs": [
        {
          "output_type": "execute_result",
          "data": {
            "text/plain": [
              "<matplotlib.axes._subplots.AxesSubplot at 0x7f31d5246810>"
            ]
          },
          "metadata": {
            "tags": []
          },
          "execution_count": 39
        },
        {
          "output_type": "display_data",
          "data": {
            "image/png": "[encoded data removed]",
            "text/plain": [
              "<Figure size 432x288 with 1 Axes>"
            ]
          },
          "metadata": {
            "tags": []
          }
        }
      ]
    },
    {
      "cell_type": "markdown",
      "metadata": {
        "id": "RjE_9yJEYBPK"
      },
      "source": [
        "**Campeonato dos Pilotos**"
      ]
    },
    {
      "cell_type": "code",
      "metadata": {
        "colab": {
          "base_uri": "https://localhost:8080/",
          "height": 419
        },
        "id": "TnKmfIRHS8TT",
        "outputId": "d58a293d-c80c-4ab5-de7e-adc79b9cc1ff"
      },
      "source": [
        "df_campeoes = df_classif_pilot[df_classif_pilot.POSICAO_GP == 1]\n",
        "df_campeoes"
      ],
      "execution_count": null,
      "outputs": [
        {
          "output_type": "execute_result",
          "data": {
            "text/html": [
              "<div>\n",
              "<style scoped>\n",
              "    .dataframe tbody tr th:only-of-type {\n",
              "        vertical-align: middle;\n",
              "    }\n",
              "\n",
              "    .dataframe tbody tr th {\n",
              "        vertical-align: top;\n",
              "    }\n",
              "\n",
              "    .dataframe thead th {\n",
              "        text-align: right;\n",
              "    }\n",
              "</style>\n",
              "<table border=\"1\" class=\"dataframe\">\n",
              "  <thead>\n",
              "    <tr style=\"text-align: right;\">\n",
              "      <th></th>\n",
              "      <th>ANO_TEMPORADA</th>\n",
              "      <th>NM_PILOTO</th>\n",
              "      <th>POSICAO_GP</th>\n",
              "      <th>ID_PILOTO</th>\n",
              "      <th>PTS_PILOTO</th>\n",
              "    </tr>\n",
              "  </thead>\n",
              "  <tbody>\n",
              "    <tr>\n",
              "      <th>0</th>\n",
              "      <td>NaN</td>\n",
              "      <td>Lewis</td>\n",
              "      <td>1</td>\n",
              "      <td>1</td>\n",
              "      <td>10</td>\n",
              "    </tr>\n",
              "    <tr>\n",
              "      <th>1</th>\n",
              "      <td>NaN</td>\n",
              "      <td>Lewis</td>\n",
              "      <td>1</td>\n",
              "      <td>1</td>\n",
              "      <td>10</td>\n",
              "    </tr>\n",
              "    <tr>\n",
              "      <th>2</th>\n",
              "      <td>NaN</td>\n",
              "      <td>Lewis</td>\n",
              "      <td>1</td>\n",
              "      <td>1</td>\n",
              "      <td>10</td>\n",
              "    </tr>\n",
              "    <tr>\n",
              "      <th>3</th>\n",
              "      <td>NaN</td>\n",
              "      <td>Lewis</td>\n",
              "      <td>1</td>\n",
              "      <td>1</td>\n",
              "      <td>10</td>\n",
              "    </tr>\n",
              "    <tr>\n",
              "      <th>4</th>\n",
              "      <td>NaN</td>\n",
              "      <td>Lewis</td>\n",
              "      <td>1</td>\n",
              "      <td>1</td>\n",
              "      <td>10</td>\n",
              "    </tr>\n",
              "    <tr>\n",
              "      <th>...</th>\n",
              "      <td>...</td>\n",
              "      <td>...</td>\n",
              "      <td>...</td>\n",
              "      <td>...</td>\n",
              "      <td>...</td>\n",
              "    </tr>\n",
              "    <tr>\n",
              "      <th>84398</th>\n",
              "      <td>NaN</td>\n",
              "      <td>Nigel</td>\n",
              "      <td>1</td>\n",
              "      <td>95</td>\n",
              "      <td>10</td>\n",
              "    </tr>\n",
              "    <tr>\n",
              "      <th>84399</th>\n",
              "      <td>NaN</td>\n",
              "      <td>Nigel</td>\n",
              "      <td>1</td>\n",
              "      <td>95</td>\n",
              "      <td>10</td>\n",
              "    </tr>\n",
              "    <tr>\n",
              "      <th>84400</th>\n",
              "      <td>NaN</td>\n",
              "      <td>Nigel</td>\n",
              "      <td>1</td>\n",
              "      <td>95</td>\n",
              "      <td>10</td>\n",
              "    </tr>\n",
              "    <tr>\n",
              "      <th>84401</th>\n",
              "      <td>NaN</td>\n",
              "      <td>Nigel</td>\n",
              "      <td>1</td>\n",
              "      <td>95</td>\n",
              "      <td>10</td>\n",
              "    </tr>\n",
              "    <tr>\n",
              "      <th>84402</th>\n",
              "      <td>NaN</td>\n",
              "      <td>Nigel</td>\n",
              "      <td>1</td>\n",
              "      <td>95</td>\n",
              "      <td>10</td>\n",
              "    </tr>\n",
              "  </tbody>\n",
              "</table>\n",
              "<p>4060 rows × 5 columns</p>\n",
              "</div>"
            ],
            "text/plain": [
              "       ANO_TEMPORADA NM_PILOTO  POSICAO_GP  ID_PILOTO  PTS_PILOTO\n",
              "0                NaN     Lewis           1          1          10\n",
              "1                NaN     Lewis           1          1          10\n",
              "2                NaN     Lewis           1          1          10\n",
              "3                NaN     Lewis           1          1          10\n",
              "4                NaN     Lewis           1          1          10\n",
              "...              ...       ...         ...        ...         ...\n",
              "84398            NaN     Nigel           1         95          10\n",
              "84399            NaN     Nigel           1         95          10\n",
              "84400            NaN     Nigel           1         95          10\n",
              "84401            NaN     Nigel           1         95          10\n",
              "84402            NaN     Nigel           1         95          10\n",
              "\n",
              "[4060 rows x 5 columns]"
            ]
          },
          "metadata": {
            "tags": []
          },
          "execution_count": 40
        }
      ]
    },
    {
      "cell_type": "code",
      "metadata": {
        "colab": {
          "base_uri": "https://localhost:8080/"
        },
        "id": "iSnO9VXFTnby",
        "outputId": "d70f51c6-2018-4e11-d97a-444f03546610"
      },
      "source": [
        "qt_campeoes = df_campeoes.NM_PILOTO.value_counts(ascending = False)\n",
        "top_10_campeoes = qt_campeoes[:10]\n",
        "top_10_campeoes"
      ],
      "execution_count": null,
      "outputs": [
        {
          "output_type": "execute_result",
          "data": {
            "text/plain": [
              "Michael     1198\n",
              "Fernando     442\n",
              "Kimi         372\n",
              "Damon        362\n",
              "Felipe       232\n",
              "Lewis        230\n",
              "Jenson       142\n",
              "Mika         130\n",
              "Rubens       120\n",
              "Juan         120\n",
              "Name: NM_PILOTO, dtype: int64"
            ]
          },
          "metadata": {
            "tags": []
          },
          "execution_count": 41
        }
      ]
    },
    {
      "cell_type": "code",
      "metadata": {
        "colab": {
          "base_uri": "https://localhost:8080/",
          "height": 319
        },
        "id": "LXIbLh6bT-xd",
        "outputId": "34758920-3d0a-4799-d25c-0400bc6ea400"
      },
      "source": [
        "top_10_campeoes.plot(kind = 'bar')"
      ],
      "execution_count": null,
      "outputs": [
        {
          "output_type": "execute_result",
          "data": {
            "text/plain": [
              "<matplotlib.axes._subplots.AxesSubplot at 0x7f31d51eea90>"
            ]
          },
          "metadata": {
            "tags": []
          },
          "execution_count": 42
        },
        {
          "output_type": "display_data",
          "data": {
            "image/png": "[encoded data removed]",
            "text/plain": [
              "<Figure size 432x288 with 1 Axes>"
            ]
          },
          "metadata": {
            "tags": []
          }
        }
      ]
    },
    {
      "cell_type": "code",
      "metadata": {
        "id": "kg0mnB8tVEsu"
      },
      "source": [
        ""
      ],
      "execution_count": null,
      "outputs": []
    }
  ]
}